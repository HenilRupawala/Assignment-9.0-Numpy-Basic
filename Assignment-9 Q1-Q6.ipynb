{
 "cells": [
  {
   "cell_type": "markdown",
   "id": "3de497ce-714f-402e-a9aa-36f2b7a7fc1c",
   "metadata": {},
   "source": [
    "##### Consider the below code to answer further questions:"
   ]
  },
  {
   "cell_type": "code",
   "execution_count": 6,
   "id": "1d6b37f5-facb-436e-ae54-abd11b64bc37",
   "metadata": {},
   "outputs": [],
   "source": [
    "import numpy as np\n",
    "\n",
    "list_ = ['1','2','3','4','5']\n",
    "\n",
    "array_list = np.array(object = list_)"
   ]
  },
  {
   "cell_type": "markdown",
   "id": "52b1680f-f5bc-44a7-ad15-6e7ffd3426f9",
   "metadata": {},
   "source": [
    "##### Q1. Is there any difference in the data type of variables list_ and array_list? If there is then write a code to print the data types of both the variables."
   ]
  },
  {
   "cell_type": "markdown",
   "id": "ab0b9881-a293-42b1-b8dd-6fae407a1627",
   "metadata": {},
   "source": [
    "Yes, there is a difference in the data types of the variables **list_** and **array_list**.\n",
    "\n",
    "- **list_** is a Python list containing strings:"
   ]
  },
  {
   "cell_type": "code",
   "execution_count": 7,
   "id": "3b3fbed3-b63f-410f-9acf-aa8d72f48407",
   "metadata": {},
   "outputs": [
    {
     "data": {
      "text/plain": [
       "list"
      ]
     },
     "execution_count": 7,
     "metadata": {},
     "output_type": "execute_result"
    }
   ],
   "source": [
    "type(list_)"
   ]
  },
  {
   "cell_type": "markdown",
   "id": "1fe8cbd9-8157-414b-905f-13b9f4d4aa2b",
   "metadata": {},
   "source": [
    "- **array_list** is a NumPy array containing strings:"
   ]
  },
  {
   "cell_type": "code",
   "execution_count": 10,
   "id": "69999914-7bf3-479b-ae2a-12af363c7d7d",
   "metadata": {},
   "outputs": [
    {
     "data": {
      "text/plain": [
       "numpy.ndarray"
      ]
     },
     "execution_count": 10,
     "metadata": {},
     "output_type": "execute_result"
    }
   ],
   "source": [
    "type(array_list)"
   ]
  },
  {
   "cell_type": "code",
   "execution_count": null,
   "id": "55e51589-4f76-4c35-ba8a-df793af8f2c6",
   "metadata": {},
   "outputs": [],
   "source": []
  },
  {
   "cell_type": "markdown",
   "id": "51309257-1313-400b-aa8d-63396a5ad32c",
   "metadata": {},
   "source": [
    "##### Q2. Write a code to print the data type of each and every element of both the variables list_ and arra_list."
   ]
  },
  {
   "cell_type": "code",
   "execution_count": 14,
   "id": "5c9e75f8-f0b8-4922-8cdc-56a31cbcd659",
   "metadata": {},
   "outputs": [
    {
     "name": "stdout",
     "output_type": "stream",
     "text": [
      "Element: 1, Data Type: <class 'str'>\n",
      "Element: 2, Data Type: <class 'str'>\n",
      "Element: 3, Data Type: <class 'str'>\n",
      "Element: 4, Data Type: <class 'str'>\n",
      "Element: 5, Data Type: <class 'str'>\n",
      "\n",
      "\n",
      "Element: 1, Data Type: <class 'numpy.str_'>\n",
      "Element: 2, Data Type: <class 'numpy.str_'>\n",
      "Element: 3, Data Type: <class 'numpy.str_'>\n",
      "Element: 4, Data Type: <class 'numpy.str_'>\n",
      "Element: 5, Data Type: <class 'numpy.str_'>\n"
     ]
    }
   ],
   "source": [
    "import numpy as np\n",
    "\n",
    "list_ = ['1','2','3','4','5']\n",
    "\n",
    "array_list = np.array(object = list_)\n",
    "\n",
    "# Print data type of each element in the list\n",
    "for element in list_:\n",
    "    print(f\"Element: {element}, Data Type: {type(element)}\")\n",
    "\n",
    "print(\"\\n\")\n",
    "\n",
    "# Print data type of each element in the NumPy array\n",
    "for element in array_list:\n",
    "    print(f\"Element: {element}, Data Type: {type(element)}\")"
   ]
  },
  {
   "cell_type": "code",
   "execution_count": null,
   "id": "45919ca0-c1c9-442a-9b23-5c50e2bef341",
   "metadata": {},
   "outputs": [],
   "source": []
  },
  {
   "cell_type": "markdown",
   "id": "c77e3d3f-4a76-4ce6-b2eb-7aea8b27e544",
   "metadata": {},
   "source": [
    "##### Q3. Considering the following changes in the variable, array_list:\n",
    "\n",
    "**array_list = np.array(object = list_, dtype = int)**\n",
    ".\n",
    "\n",
    "\n",
    "##### Will there be any difference in the data type of the elements present in both the variables, list_ and arra_list? If so then print the data types of each and every element present in both the variables, list_ and arra_list."
   ]
  },
  {
   "cell_type": "markdown",
   "id": "5f49417b-73de-4f24-abbd-e90e0c8ab754",
   "metadata": {},
   "source": [
    "Yes, there will be a difference in the data type of the elements present in **list_** and **array_list** after the change you mentioned. The **array_list** will have elements with a data type of **int** because you specified the dtype parameter as **int** when creating the NumPy array."
   ]
  },
  {
   "cell_type": "code",
   "execution_count": 17,
   "id": "0d3981c4-41c8-45d2-98ca-8f7c321ab77e",
   "metadata": {},
   "outputs": [
    {
     "name": "stdout",
     "output_type": "stream",
     "text": [
      "Element: 1, Data Type: <class 'str'>\n",
      "Element: 2, Data Type: <class 'str'>\n",
      "Element: 3, Data Type: <class 'str'>\n",
      "Element: 4, Data Type: <class 'str'>\n",
      "Element: 5, Data Type: <class 'str'>\n",
      "\n",
      "\n",
      "Element: 1, Data Type: <class 'numpy.int64'>\n",
      "Element: 2, Data Type: <class 'numpy.int64'>\n",
      "Element: 3, Data Type: <class 'numpy.int64'>\n",
      "Element: 4, Data Type: <class 'numpy.int64'>\n",
      "Element: 5, Data Type: <class 'numpy.int64'>\n"
     ]
    }
   ],
   "source": [
    "import numpy as np\n",
    "\n",
    "list_ = ['1','2','3','4','5']\n",
    "\n",
    "array_list = np.array(object = list_, dtype=int)\n",
    "\n",
    "# Print data type of each element in the list\n",
    "for element in list_:\n",
    "    print(f\"Element: {element}, Data Type: {type(element)}\")\n",
    "\n",
    "print(\"\\n\")\n",
    "\n",
    "# Print data type of each element in the NumPy array\n",
    "for element in array_list:\n",
    "    print(f\"Element: {element}, Data Type: {type(element)}\")"
   ]
  },
  {
   "cell_type": "code",
   "execution_count": null,
   "id": "5139f666-0f61-4e73-93a4-1ac37d239e8b",
   "metadata": {},
   "outputs": [],
   "source": []
  },
  {
   "cell_type": "markdown",
   "id": "6cd05d6e-8b69-42d7-9fdc-dfef1047cf69",
   "metadata": {},
   "source": [
    "##### Consider the below code to answer further questions:"
   ]
  },
  {
   "cell_type": "code",
   "execution_count": 21,
   "id": "bd61e236-a160-420b-860a-e824b6adcaa6",
   "metadata": {},
   "outputs": [],
   "source": [
    "import numpy as np\n",
    "\n",
    "num_list = [ [ 1 , 2 , 3 ] , [ 4 , 5 , 6 ] ]\n",
    "\n",
    "num_array = np.array(object = num_list)"
   ]
  },
  {
   "cell_type": "markdown",
   "id": "5906f82d-3b2f-42b5-8fc6-5ab8752129b9",
   "metadata": {},
   "source": [
    "##### Q4. Write a code to find the following characteristics of variable, num_array:\n",
    "\n",
    "**(i) shape**\n",
    "**(ii) size**"
   ]
  },
  {
   "cell_type": "code",
   "execution_count": 22,
   "id": "b492077e-b564-406f-9727-4425e05a72a3",
   "metadata": {},
   "outputs": [
    {
     "name": "stdout",
     "output_type": "stream",
     "text": [
      "Shape: (2, 3)\n",
      "Size: 6\n"
     ]
    }
   ],
   "source": [
    "import numpy as np\n",
    "\n",
    "num_list = [ [ 1 , 2 , 3 ] , [ 4 , 5 , 6 ] ]\n",
    "\n",
    "num_array = np.array(object = num_list)\n",
    "\n",
    "shape = num_array.shape\n",
    "print(\"Shape:\", shape)\n",
    "\n",
    "size = num_array.size\n",
    "print(\"Size:\", size)"
   ]
  },
  {
   "cell_type": "code",
   "execution_count": null,
   "id": "0a7ea065-dc7f-43ac-a457-b32d10c02e2d",
   "metadata": {},
   "outputs": [],
   "source": []
  },
  {
   "cell_type": "markdown",
   "id": "1924f139-f0a6-4a5f-884b-d28a248ed079",
   "metadata": {},
   "source": [
    "##### Q5. Write a code to create numpy array of 3*3 matrix containing zeros only, using a numpy array creation function."
   ]
  },
  {
   "cell_type": "code",
   "execution_count": 30,
   "id": "45e6f99c-d7eb-46c3-a548-37798296709e",
   "metadata": {},
   "outputs": [
    {
     "data": {
      "text/plain": [
       "array([[0., 0., 0.],\n",
       "       [0., 0., 0.],\n",
       "       [0., 0., 0.]])"
      ]
     },
     "execution_count": 30,
     "metadata": {},
     "output_type": "execute_result"
    }
   ],
   "source": [
    "import numpy as np\n",
    "\n",
    "arr = np.zeros((3,3))\n",
    "\n",
    "arr"
   ]
  },
  {
   "cell_type": "code",
   "execution_count": null,
   "id": "8a706855-a298-4627-89b9-0b33fd786ed3",
   "metadata": {},
   "outputs": [],
   "source": []
  },
  {
   "cell_type": "markdown",
   "id": "da6b73d7-ed0a-4749-b9f6-a7f741654f59",
   "metadata": {},
   "source": [
    "##### Q6. Create an identity matrix of shape (5,5) using numpy functions?"
   ]
  },
  {
   "cell_type": "code",
   "execution_count": 31,
   "id": "9d166e50-8cdc-41fe-a81a-7603b2698bc9",
   "metadata": {},
   "outputs": [
    {
     "data": {
      "text/plain": [
       "array([[1., 0., 0., 0., 0.],\n",
       "       [0., 1., 0., 0., 0.],\n",
       "       [0., 0., 1., 0., 0.],\n",
       "       [0., 0., 0., 1., 0.],\n",
       "       [0., 0., 0., 0., 1.]])"
      ]
     },
     "execution_count": 31,
     "metadata": {},
     "output_type": "execute_result"
    }
   ],
   "source": [
    "import numpy as np\n",
    "\n",
    "arr = np.eye(5)\n",
    "\n",
    "arr"
   ]
  }
 ],
 "metadata": {
  "kernelspec": {
   "display_name": "Python 3 (ipykernel)",
   "language": "python",
   "name": "python3"
  },
  "language_info": {
   "codemirror_mode": {
    "name": "ipython",
    "version": 3
   },
   "file_extension": ".py",
   "mimetype": "text/x-python",
   "name": "python",
   "nbconvert_exporter": "python",
   "pygments_lexer": "ipython3",
   "version": "3.10.8"
  }
 },
 "nbformat": 4,
 "nbformat_minor": 5
}
